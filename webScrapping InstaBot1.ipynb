{
 "cells": [
  {
   "cell_type": "code",
   "execution_count": 1,
   "metadata": {},
   "outputs": [],
   "source": [
    "from selenium.webdriver.support import expected_conditions as EC\n",
    "from selenium.webdriver.common.by import By\n",
    "from selenium.webdriver.support.ui import WebDriverWait\n",
    "from selenium import webdriver\n",
    "from selenium.common.exceptions import NoSuchElementException\n",
    "from selenium.common.exceptions import StaleElementReferenceException\n",
    "import time"
   ]
  },
  {
   "cell_type": "code",
   "execution_count": 2,
   "metadata": {},
   "outputs": [],
   "source": [
    "driver = webdriver.Chrome(executable_path = 'chromedriver')\n",
    "driver.maximize_window()"
   ]
  },
  {
   "cell_type": "markdown",
   "metadata": {},
   "source": [
    "#### 1. Login to your Instagram Handle"
   ]
  },
  {
   "cell_type": "code",
   "execution_count": 3,
   "metadata": {},
   "outputs": [],
   "source": [
    "def loginInsta() : \n",
    "    waiter = WebDriverWait(driver,10).until(EC.presence_of_element_located((By.TAG_NAME,\"input\")))\n",
    "    text_boxes = driver.find_elements_by_tag_name('input')\n",
    "    sampleUserName = 'Riyrai413@gmail.com'\n",
    "    samplePassword = 'Instagram@123'\n",
    "    username = text_boxes[0]\n",
    "    password = text_boxes[1]\n",
    "    username.send_keys(sampleUserName)\n",
    "    password.send_keys(samplePassword)\n",
    "    sub_btn = driver.find_element_by_xpath('//button[@type= \"submit\"]')\n",
    "    sub_btn.click()"
   ]
  },
  {
   "cell_type": "code",
   "execution_count": 4,
   "metadata": {},
   "outputs": [],
   "source": [
    "driver.get('https://www.instagram.com/')\n",
    "loginInsta()\n",
    "# close the save info window\n",
    "waiter = WebDriverWait(driver,10).until(EC.presence_of_element_located((By.CLASS_NAME,\"cmbtv\")))\n",
    "NotNowSection = driver.find_element_by_class_name(\"cmbtv\")\n",
    "NotNowSection.click()\n",
    "# close the turn on post notification window\n",
    "waiter = WebDriverWait(driver,10).until(EC.presence_of_element_located((By.CLASS_NAME,\"HoLwm\")))\n",
    "NotNowSection = driver.find_element_by_class_name(\"HoLwm\")\n",
    "NotNowSection.click()"
   ]
  },
  {
   "cell_type": "markdown",
   "metadata": {},
   "source": [
    "#### 2. Type for “food” in search bar and print all the names of the Instagram Handles that are displayed in list after typing “food”\n",
    "Note : Make sure to avoid printing hashtags"
   ]
  },
  {
   "cell_type": "code",
   "execution_count": 5,
   "metadata": {},
   "outputs": [
    {
     "name": "stdout",
     "output_type": "stream",
     "text": [
      "dilsefoodie\n",
      "foodtalkindia\n",
      "foodie___hum\n",
      "addicted_food_\n",
      "kashmirfoodgram\n",
      "delhifoodwalks\n",
      "food\n",
      "foodisygwalior\n",
      "food_lunatic\n",
      "foodie_incarnate\n",
      "foodpandits\n",
      "indorefoodexplorer\n",
      "jaipurfood\n",
      "foodierasleen\n",
      "nagpurfoodgram\n",
      "biharifoodblogger__\n",
      "foodiesdelhite\n",
      "_foodiefashion_\n",
      "food.flourish\n",
      "foodconnectindia\n",
      "food.finista\n",
      "freakin_foodies\n",
      "foodtaleswithsj\n",
      "foodmoodofficial2018\n",
      "delhifoodguide\n",
      "yourfoodlab\n",
      "fit_food_fun1060\n",
      "food_gambler\n",
      "gurgaonfoodblog\n",
      "food_junc\n",
      "myfoodproject\n",
      "foodie_teena_bold_beautiful\n",
      "food_o_logy_nagpur\n",
      "foodietoodiegwl\n",
      "foodwalkwithsanju\n",
      "delhifoodcrush\n",
      "food_affair\n",
      "hyderabad.food.diaries\n",
      "foods.fun.life\n",
      "food_and_makeup_lover\n",
      "indiafoodtourismorg\n",
      "foodisnirvana\n",
      "leicesterfood\n",
      "foodonyourplate\n",
      "food_trail\n",
      "thegreatindianfoodie\n",
      "sonifoodcorner\n",
      "the_foodiediaries\n",
      "_always_a_foodie\n",
      "foodinsider\n"
     ]
    }
   ],
   "source": [
    "search_box = driver.find_element_by_class_name('TqC_a ')\n",
    "search_box.click()\n",
    "waiter=WebDriverWait(driver, 10).until(EC.presence_of_element_located((By.CLASS_NAME, \"XTCLo\")))\n",
    "driver.find_element_by_class_name('XTCLo').send_keys('food')\n",
    "waiter=WebDriverWait(driver, 10).until(EC.presence_of_element_located((By.CLASS_NAME, \"-qQT3\")))\n",
    "\n",
    "p =  driver.find_elements_by_xpath('//a[@class = \"-qQT3\"]/div/div[contains(@class,\"vwCYk\")]/div/div/div/div')\n",
    "\n",
    "for a in p:\n",
    "    if a.text != '':\n",
    "        print(a.text)"
   ]
  },
  {
   "cell_type": "code",
   "execution_count": 6,
   "metadata": {},
   "outputs": [],
   "source": [
    "#Clears typed Text in the search bar \n",
    "waiter = WebDriverWait(driver, 10).until(EC.presence_of_element_located((By.CLASS_NAME,'coreSpriteSearchClear')))\n",
    "driver.find_element_by_class_name('coreSpriteSearchClear').get_attribute('outerHTML')\n",
    "driver.find_element_by_class_name('coreSpriteSearchClear').click()"
   ]
  },
  {
   "cell_type": "markdown",
   "metadata": {},
   "source": [
    "#### 3. Searching and Opening a profile using  Open profile of “So Delhi” "
   ]
  },
  {
   "cell_type": "code",
   "execution_count": 7,
   "metadata": {},
   "outputs": [],
   "source": [
    "def gotoprofile(accountName):\n",
    "    driver.get('https://www.instagram.com/')\n",
    "    search_box = driver.find_element_by_class_name('TqC_a ')\n",
    "    search_box.click()\n",
    "    waiter=WebDriverWait(driver, 10).until(EC.presence_of_element_located((By.CLASS_NAME, \"XTCLo\")))\n",
    "    driver.find_element_by_class_name('XTCLo').send_keys(accountName)\n",
    "    waiter = WebDriverWait(driver,10).until(EC.presence_of_element_located((By.CLASS_NAME,\"-qQT3\")))\n",
    "    driver.find_elements_by_xpath('//a[@class = \"-qQT3\"]/div/div[contains(@class,\"vwCYk\")]/div/div/div/div')[0].click()"
   ]
  },
  {
   "cell_type": "code",
   "execution_count": 8,
   "metadata": {},
   "outputs": [],
   "source": [
    "gotoprofile('So delhi')"
   ]
  },
  {
   "cell_type": "markdown",
   "metadata": {},
   "source": [
    "#### 4 . Follow/Unfollow given handle - Open the Instagram Handle of “So Delhi”"
   ]
  },
  {
   "cell_type": "markdown",
   "metadata": {},
   "source": [
    "##### 1. Start following it. Print a message if you are already following"
   ]
  },
  {
   "cell_type": "code",
   "execution_count": 9,
   "metadata": {},
   "outputs": [],
   "source": [
    "def followTheProfile():\n",
    "    waiter  = WebDriverWait(driver,10).until(EC.presence_of_element_located((By.CLASS_NAME,'_6VtSN')))\n",
    "    f_btn = driver.find_element_by_class_name('_6VtSN')\n",
    "    check_f = f_btn.get_attribute('innerHTML')\n",
    "    if check_f != 'Follow':\n",
    "        print(\"You are already following\")\n",
    "    else:\n",
    "        f_btn.click()"
   ]
  },
  {
   "cell_type": "code",
   "execution_count": 10,
   "metadata": {},
   "outputs": [
    {
     "name": "stdout",
     "output_type": "stream",
     "text": [
      "You are already following\n"
     ]
    }
   ],
   "source": [
    "followTheProfile()"
   ]
  },
  {
   "cell_type": "markdown",
   "metadata": {},
   "source": [
    "    \n",
    "##### 2. After following, unfollow the instagram handle. Print a message if you have already unfollowed.   "
   ]
  },
  {
   "cell_type": "code",
   "execution_count": 11,
   "metadata": {},
   "outputs": [],
   "source": [
    "def unfollowTheProfile():\n",
    "    waiter = WebDriverWait(driver, 10).until(EC.presence_of_element_located((By.CLASS_NAME,'_6VtSN')))\n",
    "    f_btn = driver.find_element_by_class_name('_6VtSN')\n",
    "    check_f = f_btn.get_attribute('innerHTML')\n",
    "    if check_f != 'Follow':\n",
    "        f_btn.click()    \n",
    "        waiter=WebDriverWait(driver, 10).until(EC.presence_of_element_located((By.CLASS_NAME, \"-Cab_\")))\n",
    "        driver.find_element_by_class_name(\"-Cab_\").click()\n",
    "    else:\n",
    "        print(\"You have already unfollowed\")"
   ]
  },
  {
   "cell_type": "code",
   "execution_count": 13,
   "metadata": {},
   "outputs": [
    {
     "name": "stdout",
     "output_type": "stream",
     "text": [
      "You have already unfollowed\n"
     ]
    }
   ],
   "source": [
    "unfollowTheProfile()"
   ]
  },
  {
   "cell_type": "markdown",
   "metadata": {},
   "source": [
    "#### 5. Like/Unlike posts"
   ]
  },
  {
   "cell_type": "markdown",
   "metadata": {},
   "source": [
    "##### 1. Liking the top 30 posts of the ‘dilsefoodie'. Print message if you have already liked it."
   ]
  },
  {
   "cell_type": "code",
   "execution_count": 80,
   "metadata": {},
   "outputs": [],
   "source": [
    "gotoprofile('dilsefoodie')"
   ]
  },
  {
   "cell_type": "code",
   "execution_count": 36,
   "metadata": {},
   "outputs": [],
   "source": [
    "import time\n",
    "driver.execute_script('window.scrollBy(0, 9000);')\n",
    "time.sleep(2.5)\n",
    "driver.execute_script('window.scrollBy(0, 9000);')\n",
    "time.sleep(2.5)\n",
    "driver.execute_script('window.scrollBy(0, 3000);')\n",
    "time.sleep(2.5)"
   ]
  },
  {
   "cell_type": "code",
   "execution_count": 87,
   "metadata": {},
   "outputs": [
    {
     "data": {
      "text/plain": [
       "1"
      ]
     },
     "execution_count": 87,
     "metadata": {},
     "output_type": "execute_result"
    }
   ],
   "source": [
    "for i in range(30):\n",
    "    waiter = WebDriverWait(driver,10).until(EC.presence_of_element_located((By.CLASS_NAME,\"v1Nh3\")))\n",
    "    p = driver.find_elements_by_class_name(\"v1Nh3\")[i]\n",
    "    p.click()\n",
    "    try:\n",
    "        driver.find_element_by_xpath(\"//span[@class ='fr66n']/button/div[contains(@class,'B58H7')]\")\n",
    "        waiter = WebDriverWait(driver,10).until(EC.presence_of_element_located((By.XPATH,\"//span[@class ='fr66n']/button\")))\n",
    "        like_btn = driver.find_element_by_xpath(\"//span[@class ='fr66n']/button\")\n",
    "        like_btn.click()\n",
    "    except NoSuchElementException:\n",
    "        print('You Already liked!')\n",
    "    driver.back()\n"
   ]
  },
  {
   "cell_type": "markdown",
   "metadata": {},
   "source": [
    "##### 2. Unliking the top 30 posts of the ‘dilsefoodie’. Print message if you have already unliked it."
   ]
  },
  {
   "cell_type": "code",
   "execution_count": 89,
   "metadata": {},
   "outputs": [
    {
     "name": "stdout",
     "output_type": "stream",
     "text": [
      "1\n",
      "2\n",
      "3\n"
     ]
    },
    {
     "ename": "TimeoutException",
     "evalue": "Message: \n",
     "output_type": "error",
     "traceback": [
      "\u001b[1;31m---------------------------------------------------------------------------\u001b[0m",
      "\u001b[1;31mNoSuchElementException\u001b[0m                    Traceback (most recent call last)",
      "\u001b[1;32m<ipython-input-89-2cfa1232aa95>\u001b[0m in \u001b[0;36m<module>\u001b[1;34m\u001b[0m\n\u001b[0;32m      6\u001b[0m     \u001b[1;32mtry\u001b[0m\u001b[1;33m:\u001b[0m\u001b[1;33m\u001b[0m\u001b[1;33m\u001b[0m\u001b[0m\n\u001b[1;32m----> 7\u001b[1;33m         \u001b[0mdriver\u001b[0m\u001b[1;33m.\u001b[0m\u001b[0mfind_element_by_xpath\u001b[0m\u001b[1;33m(\u001b[0m\u001b[1;34m\"//span[@class ='fr66n']/button/div[contains(@class,'B58H7')]\"\u001b[0m\u001b[1;33m)\u001b[0m\u001b[1;33m\u001b[0m\u001b[1;33m\u001b[0m\u001b[0m\n\u001b[0m\u001b[0;32m      8\u001b[0m         \u001b[0mprint\u001b[0m\u001b[1;33m(\u001b[0m\u001b[1;34m\"You Already unliked!\"\u001b[0m\u001b[1;33m)\u001b[0m\u001b[1;33m\u001b[0m\u001b[1;33m\u001b[0m\u001b[0m\n",
      "\u001b[1;32m~\\anaconda3\\lib\\site-packages\\selenium\\webdriver\\remote\\webdriver.py\u001b[0m in \u001b[0;36mfind_element_by_xpath\u001b[1;34m(self, xpath)\u001b[0m\n\u001b[0;32m    393\u001b[0m         \"\"\"\n\u001b[1;32m--> 394\u001b[1;33m         \u001b[1;32mreturn\u001b[0m \u001b[0mself\u001b[0m\u001b[1;33m.\u001b[0m\u001b[0mfind_element\u001b[0m\u001b[1;33m(\u001b[0m\u001b[0mby\u001b[0m\u001b[1;33m=\u001b[0m\u001b[0mBy\u001b[0m\u001b[1;33m.\u001b[0m\u001b[0mXPATH\u001b[0m\u001b[1;33m,\u001b[0m \u001b[0mvalue\u001b[0m\u001b[1;33m=\u001b[0m\u001b[0mxpath\u001b[0m\u001b[1;33m)\u001b[0m\u001b[1;33m\u001b[0m\u001b[1;33m\u001b[0m\u001b[0m\n\u001b[0m\u001b[0;32m    395\u001b[0m \u001b[1;33m\u001b[0m\u001b[0m\n",
      "\u001b[1;32m~\\anaconda3\\lib\\site-packages\\selenium\\webdriver\\remote\\webdriver.py\u001b[0m in \u001b[0;36mfind_element\u001b[1;34m(self, by, value)\u001b[0m\n\u001b[0;32m    975\u001b[0m                 \u001b[0mvalue\u001b[0m \u001b[1;33m=\u001b[0m \u001b[1;34m'[name=\"%s\"]'\u001b[0m \u001b[1;33m%\u001b[0m \u001b[0mvalue\u001b[0m\u001b[1;33m\u001b[0m\u001b[1;33m\u001b[0m\u001b[0m\n\u001b[1;32m--> 976\u001b[1;33m         return self.execute(Command.FIND_ELEMENT, {\n\u001b[0m\u001b[0;32m    977\u001b[0m             \u001b[1;34m'using'\u001b[0m\u001b[1;33m:\u001b[0m \u001b[0mby\u001b[0m\u001b[1;33m,\u001b[0m\u001b[1;33m\u001b[0m\u001b[1;33m\u001b[0m\u001b[0m\n",
      "\u001b[1;32m~\\anaconda3\\lib\\site-packages\\selenium\\webdriver\\remote\\webdriver.py\u001b[0m in \u001b[0;36mexecute\u001b[1;34m(self, driver_command, params)\u001b[0m\n\u001b[0;32m    320\u001b[0m         \u001b[1;32mif\u001b[0m \u001b[0mresponse\u001b[0m\u001b[1;33m:\u001b[0m\u001b[1;33m\u001b[0m\u001b[1;33m\u001b[0m\u001b[0m\n\u001b[1;32m--> 321\u001b[1;33m             \u001b[0mself\u001b[0m\u001b[1;33m.\u001b[0m\u001b[0merror_handler\u001b[0m\u001b[1;33m.\u001b[0m\u001b[0mcheck_response\u001b[0m\u001b[1;33m(\u001b[0m\u001b[0mresponse\u001b[0m\u001b[1;33m)\u001b[0m\u001b[1;33m\u001b[0m\u001b[1;33m\u001b[0m\u001b[0m\n\u001b[0m\u001b[0;32m    322\u001b[0m             response['value'] = self._unwrap_value(\n",
      "\u001b[1;32m~\\anaconda3\\lib\\site-packages\\selenium\\webdriver\\remote\\errorhandler.py\u001b[0m in \u001b[0;36mcheck_response\u001b[1;34m(self, response)\u001b[0m\n\u001b[0;32m    241\u001b[0m             \u001b[1;32mraise\u001b[0m \u001b[0mexception_class\u001b[0m\u001b[1;33m(\u001b[0m\u001b[0mmessage\u001b[0m\u001b[1;33m,\u001b[0m \u001b[0mscreen\u001b[0m\u001b[1;33m,\u001b[0m \u001b[0mstacktrace\u001b[0m\u001b[1;33m,\u001b[0m \u001b[0malert_text\u001b[0m\u001b[1;33m)\u001b[0m\u001b[1;33m\u001b[0m\u001b[1;33m\u001b[0m\u001b[0m\n\u001b[1;32m--> 242\u001b[1;33m         \u001b[1;32mraise\u001b[0m \u001b[0mexception_class\u001b[0m\u001b[1;33m(\u001b[0m\u001b[0mmessage\u001b[0m\u001b[1;33m,\u001b[0m \u001b[0mscreen\u001b[0m\u001b[1;33m,\u001b[0m \u001b[0mstacktrace\u001b[0m\u001b[1;33m)\u001b[0m\u001b[1;33m\u001b[0m\u001b[1;33m\u001b[0m\u001b[0m\n\u001b[0m\u001b[0;32m    243\u001b[0m \u001b[1;33m\u001b[0m\u001b[0m\n",
      "\u001b[1;31mNoSuchElementException\u001b[0m: Message: no such element: Unable to locate element: {\"method\":\"xpath\",\"selector\":\"//span[@class ='fr66n']/button/div[contains(@class,'B58H7')]\"}\n  (Session info: chrome=97.0.4692.71)\n",
      "\nDuring handling of the above exception, another exception occurred:\n",
      "\u001b[1;31mTimeoutException\u001b[0m                          Traceback (most recent call last)",
      "\u001b[1;32m<ipython-input-89-2cfa1232aa95>\u001b[0m in \u001b[0;36m<module>\u001b[1;34m\u001b[0m\n\u001b[0;32m      8\u001b[0m         \u001b[0mprint\u001b[0m\u001b[1;33m(\u001b[0m\u001b[1;34m\"You Already unliked!\"\u001b[0m\u001b[1;33m)\u001b[0m\u001b[1;33m\u001b[0m\u001b[1;33m\u001b[0m\u001b[0m\n\u001b[0;32m      9\u001b[0m     \u001b[1;32mexcept\u001b[0m \u001b[0mNoSuchElementException\u001b[0m\u001b[1;33m:\u001b[0m\u001b[1;33m\u001b[0m\u001b[1;33m\u001b[0m\u001b[0m\n\u001b[1;32m---> 10\u001b[1;33m         \u001b[0mwaiter\u001b[0m \u001b[1;33m=\u001b[0m \u001b[0mWebDriverWait\u001b[0m\u001b[1;33m(\u001b[0m\u001b[0mdriver\u001b[0m\u001b[1;33m,\u001b[0m\u001b[1;36m10\u001b[0m\u001b[1;33m)\u001b[0m\u001b[1;33m.\u001b[0m\u001b[0muntil\u001b[0m\u001b[1;33m(\u001b[0m\u001b[0mEC\u001b[0m\u001b[1;33m.\u001b[0m\u001b[0mpresence_of_element_located\u001b[0m\u001b[1;33m(\u001b[0m\u001b[1;33m(\u001b[0m\u001b[0mBy\u001b[0m\u001b[1;33m.\u001b[0m\u001b[0mXPATH\u001b[0m\u001b[1;33m,\u001b[0m\u001b[1;34m\"//span[@class ='fr66n']/button\"\u001b[0m\u001b[1;33m)\u001b[0m\u001b[1;33m)\u001b[0m\u001b[1;33m)\u001b[0m\u001b[1;33m\u001b[0m\u001b[1;33m\u001b[0m\u001b[0m\n\u001b[0m\u001b[0;32m     11\u001b[0m         \u001b[0mlike_btn\u001b[0m \u001b[1;33m=\u001b[0m \u001b[0mdriver\u001b[0m\u001b[1;33m.\u001b[0m\u001b[0mfind_element_by_xpath\u001b[0m\u001b[1;33m(\u001b[0m\u001b[1;34m\"//span[@class ='fr66n']/button\"\u001b[0m\u001b[1;33m)\u001b[0m\u001b[1;33m\u001b[0m\u001b[1;33m\u001b[0m\u001b[0m\n\u001b[0;32m     12\u001b[0m         \u001b[0mlike_btn\u001b[0m\u001b[1;33m.\u001b[0m\u001b[0mclick\u001b[0m\u001b[1;33m(\u001b[0m\u001b[1;33m)\u001b[0m\u001b[1;33m\u001b[0m\u001b[1;33m\u001b[0m\u001b[0m\n",
      "\u001b[1;32m~\\anaconda3\\lib\\site-packages\\selenium\\webdriver\\support\\wait.py\u001b[0m in \u001b[0;36muntil\u001b[1;34m(self, method, message)\u001b[0m\n\u001b[0;32m     78\u001b[0m             \u001b[1;32mif\u001b[0m \u001b[0mtime\u001b[0m\u001b[1;33m.\u001b[0m\u001b[0mtime\u001b[0m\u001b[1;33m(\u001b[0m\u001b[1;33m)\u001b[0m \u001b[1;33m>\u001b[0m \u001b[0mend_time\u001b[0m\u001b[1;33m:\u001b[0m\u001b[1;33m\u001b[0m\u001b[1;33m\u001b[0m\u001b[0m\n\u001b[0;32m     79\u001b[0m                 \u001b[1;32mbreak\u001b[0m\u001b[1;33m\u001b[0m\u001b[1;33m\u001b[0m\u001b[0m\n\u001b[1;32m---> 80\u001b[1;33m         \u001b[1;32mraise\u001b[0m \u001b[0mTimeoutException\u001b[0m\u001b[1;33m(\u001b[0m\u001b[0mmessage\u001b[0m\u001b[1;33m,\u001b[0m \u001b[0mscreen\u001b[0m\u001b[1;33m,\u001b[0m \u001b[0mstacktrace\u001b[0m\u001b[1;33m)\u001b[0m\u001b[1;33m\u001b[0m\u001b[1;33m\u001b[0m\u001b[0m\n\u001b[0m\u001b[0;32m     81\u001b[0m \u001b[1;33m\u001b[0m\u001b[0m\n\u001b[0;32m     82\u001b[0m     \u001b[1;32mdef\u001b[0m \u001b[0muntil_not\u001b[0m\u001b[1;33m(\u001b[0m\u001b[0mself\u001b[0m\u001b[1;33m,\u001b[0m \u001b[0mmethod\u001b[0m\u001b[1;33m,\u001b[0m \u001b[0mmessage\u001b[0m\u001b[1;33m=\u001b[0m\u001b[1;34m''\u001b[0m\u001b[1;33m)\u001b[0m\u001b[1;33m:\u001b[0m\u001b[1;33m\u001b[0m\u001b[1;33m\u001b[0m\u001b[0m\n",
      "\u001b[1;31mTimeoutException\u001b[0m: Message: \n"
     ]
    }
   ],
   "source": [
    "for i in range(30):\n",
    "    waiter = WebDriverWait(driver,10).until(EC.presence_of_element_located((By.CLASS_NAME,\"v1Nh3\")))\n",
    "    print(i+1)\n",
    "    p = driver.find_elements_by_class_name(\"v1Nh3\")[i]\n",
    "    p.click()\n",
    "    try:\n",
    "        driver.find_element_by_xpath(\"//span[@class ='fr66n']/button/div[contains(@class,'B58H7')]\")\n",
    "        print(\"You Already unliked!\")\n",
    "    except NoSuchElementException:\n",
    "        waiter = WebDriverWait(driver,10).until(EC.presence_of_element_located((By.XPATH,\"//span[@class ='fr66n']/button\")))        \n",
    "        like_btn = driver.find_element_by_xpath(\"//span[@class ='fr66n']/button\")\n",
    "        like_btn.click()\n",
    "    driver.back()"
   ]
  },
  {
   "cell_type": "markdown",
   "metadata": {},
   "source": [
    "### Part 6"
   ]
  },
  {
   "cell_type": "markdown",
   "metadata": {},
   "source": [
    "#### Extract list of followers"
   ]
  },
  {
   "cell_type": "markdown",
   "metadata": {},
   "source": [
    "##### 1. Extract the usernames of the first 500 followers of ‘foodtalkindia’ and ‘sodelhi’."
   ]
  },
  {
   "cell_type": "code",
   "execution_count": 90,
   "metadata": {},
   "outputs": [],
   "source": [
    "\n",
    "def extractUsername(countFollowers):\n",
    "    #wait for profile page to get load\n",
    "    waiter  = WebDriverWait(driver,10).until(EC.presence_of_element_located((By.CLASS_NAME,\"Y8-fY\")))\n",
    "    # click on the followers button \n",
    "    driver.find_elements_by_class_name(\"Y8-fY\")[1].click()\n",
    "    waiter  = WebDriverWait(driver,10).until(EC.presence_of_element_located((By.XPATH,\"//a[contains(@class, 'notranslate')]\")))\n",
    "\n",
    "    while len(driver.find_elements_by_xpath('//a[contains(@class, \"notranslate\")]'))<countFollowers :\n",
    "        driver.execute_script('arguments[0].scrollIntoView(0, 5000);', driver.find_element_by_xpath('//ul[contains(@class, \"jSC57\")]'))\n",
    "    followers_list = driver.find_elements_by_xpath('//a[contains(@class, \"notranslate\")]')[:countFollowers]\n",
    "    for f in followers_list:\n",
    "        print(f.get_attribute('innerHTML'))\n",
    "    "
   ]
  },
  {
   "cell_type": "code",
   "execution_count": 91,
   "metadata": {},
   "outputs": [
    {
     "ename": "TimeoutException",
     "evalue": "Message: \n",
     "output_type": "error",
     "traceback": [
      "\u001b[1;31m---------------------------------------------------------------------------\u001b[0m",
      "\u001b[1;31mTimeoutException\u001b[0m                          Traceback (most recent call last)",
      "\u001b[1;32m<ipython-input-91-0d4acb715e3e>\u001b[0m in \u001b[0;36m<module>\u001b[1;34m\u001b[0m\n\u001b[0;32m      1\u001b[0m \u001b[0mgotoprofile\u001b[0m\u001b[1;33m(\u001b[0m\u001b[1;34m'foodtalkindia'\u001b[0m\u001b[1;33m)\u001b[0m\u001b[1;33m\u001b[0m\u001b[1;33m\u001b[0m\u001b[0m\n\u001b[1;32m----> 2\u001b[1;33m \u001b[0mextractUsername\u001b[0m\u001b[1;33m(\u001b[0m\u001b[1;36m100\u001b[0m\u001b[1;33m)\u001b[0m\u001b[1;33m\u001b[0m\u001b[1;33m\u001b[0m\u001b[0m\n\u001b[0m",
      "\u001b[1;32m<ipython-input-90-9b30eca7f0d2>\u001b[0m in \u001b[0;36mextractUsername\u001b[1;34m(countFollowers)\u001b[0m\n\u001b[0;32m      4\u001b[0m     \u001b[1;31m# click on the followers button\u001b[0m\u001b[1;33m\u001b[0m\u001b[1;33m\u001b[0m\u001b[1;33m\u001b[0m\u001b[0m\n\u001b[0;32m      5\u001b[0m     \u001b[0mdriver\u001b[0m\u001b[1;33m.\u001b[0m\u001b[0mfind_elements_by_class_name\u001b[0m\u001b[1;33m(\u001b[0m\u001b[1;34m\"Y8-fY\"\u001b[0m\u001b[1;33m)\u001b[0m\u001b[1;33m[\u001b[0m\u001b[1;36m1\u001b[0m\u001b[1;33m]\u001b[0m\u001b[1;33m.\u001b[0m\u001b[0mclick\u001b[0m\u001b[1;33m(\u001b[0m\u001b[1;33m)\u001b[0m\u001b[1;33m\u001b[0m\u001b[1;33m\u001b[0m\u001b[0m\n\u001b[1;32m----> 6\u001b[1;33m     \u001b[0mwaiter\u001b[0m  \u001b[1;33m=\u001b[0m \u001b[0mWebDriverWait\u001b[0m\u001b[1;33m(\u001b[0m\u001b[0mdriver\u001b[0m\u001b[1;33m,\u001b[0m\u001b[1;36m10\u001b[0m\u001b[1;33m)\u001b[0m\u001b[1;33m.\u001b[0m\u001b[0muntil\u001b[0m\u001b[1;33m(\u001b[0m\u001b[0mEC\u001b[0m\u001b[1;33m.\u001b[0m\u001b[0mpresence_of_element_located\u001b[0m\u001b[1;33m(\u001b[0m\u001b[1;33m(\u001b[0m\u001b[0mBy\u001b[0m\u001b[1;33m.\u001b[0m\u001b[0mXPATH\u001b[0m\u001b[1;33m,\u001b[0m\u001b[1;34m\"//a[contains(@class, 'notranslate')]\"\u001b[0m\u001b[1;33m)\u001b[0m\u001b[1;33m)\u001b[0m\u001b[1;33m)\u001b[0m\u001b[1;33m\u001b[0m\u001b[1;33m\u001b[0m\u001b[0m\n\u001b[0m\u001b[0;32m      7\u001b[0m \u001b[1;33m\u001b[0m\u001b[0m\n\u001b[0;32m      8\u001b[0m     \u001b[1;32mwhile\u001b[0m \u001b[0mlen\u001b[0m\u001b[1;33m(\u001b[0m\u001b[0mdriver\u001b[0m\u001b[1;33m.\u001b[0m\u001b[0mfind_elements_by_xpath\u001b[0m\u001b[1;33m(\u001b[0m\u001b[1;34m'//a[contains(@class, \"notranslate\")]'\u001b[0m\u001b[1;33m)\u001b[0m\u001b[1;33m)\u001b[0m\u001b[1;33m<\u001b[0m\u001b[0mcountFollowers\u001b[0m \u001b[1;33m:\u001b[0m\u001b[1;33m\u001b[0m\u001b[1;33m\u001b[0m\u001b[0m\n",
      "\u001b[1;32m~\\anaconda3\\lib\\site-packages\\selenium\\webdriver\\support\\wait.py\u001b[0m in \u001b[0;36muntil\u001b[1;34m(self, method, message)\u001b[0m\n\u001b[0;32m     78\u001b[0m             \u001b[1;32mif\u001b[0m \u001b[0mtime\u001b[0m\u001b[1;33m.\u001b[0m\u001b[0mtime\u001b[0m\u001b[1;33m(\u001b[0m\u001b[1;33m)\u001b[0m \u001b[1;33m>\u001b[0m \u001b[0mend_time\u001b[0m\u001b[1;33m:\u001b[0m\u001b[1;33m\u001b[0m\u001b[1;33m\u001b[0m\u001b[0m\n\u001b[0;32m     79\u001b[0m                 \u001b[1;32mbreak\u001b[0m\u001b[1;33m\u001b[0m\u001b[1;33m\u001b[0m\u001b[0m\n\u001b[1;32m---> 80\u001b[1;33m         \u001b[1;32mraise\u001b[0m \u001b[0mTimeoutException\u001b[0m\u001b[1;33m(\u001b[0m\u001b[0mmessage\u001b[0m\u001b[1;33m,\u001b[0m \u001b[0mscreen\u001b[0m\u001b[1;33m,\u001b[0m \u001b[0mstacktrace\u001b[0m\u001b[1;33m)\u001b[0m\u001b[1;33m\u001b[0m\u001b[1;33m\u001b[0m\u001b[0m\n\u001b[0m\u001b[0;32m     81\u001b[0m \u001b[1;33m\u001b[0m\u001b[0m\n\u001b[0;32m     82\u001b[0m     \u001b[1;32mdef\u001b[0m \u001b[0muntil_not\u001b[0m\u001b[1;33m(\u001b[0m\u001b[0mself\u001b[0m\u001b[1;33m,\u001b[0m \u001b[0mmethod\u001b[0m\u001b[1;33m,\u001b[0m \u001b[0mmessage\u001b[0m\u001b[1;33m=\u001b[0m\u001b[1;34m''\u001b[0m\u001b[1;33m)\u001b[0m\u001b[1;33m:\u001b[0m\u001b[1;33m\u001b[0m\u001b[1;33m\u001b[0m\u001b[0m\n",
      "\u001b[1;31mTimeoutException\u001b[0m: Message: \n"
     ]
    }
   ],
   "source": [
    "gotoprofile('foodtalkindia')\n",
    "extractUsername(100)"
   ]
  },
  {
   "cell_type": "code",
   "execution_count": 93,
   "metadata": {},
   "outputs": [],
   "source": [
    "gotoprofile('sodelhi')\n",
    "extractUsername(100)"
   ]
  },
  {
   "cell_type": "markdown",
   "metadata": {},
   "source": [
    "##### 2. Now print all the followers of “foodtalkindia” that you are following but those who don’t follow you"
   ]
  },
  {
   "cell_type": "code",
   "execution_count": 31,
   "metadata": {},
   "outputs": [
    {
     "name": "stdout",
     "output_type": "stream",
     "text": [
      "Following\n",
      "Following\n",
      "Following\n",
      "Following\n",
      "Requested\n",
      "Following\n",
      "Following\n"
     ]
    }
   ],
   "source": [
    "for x in driver.find_elements_by_class_name(\"_8A5w5\"):\n",
    "    print(x.get_attribute('innerHTML'))"
   ]
  },
  {
   "cell_type": "markdown",
   "metadata": {},
   "source": [
    "### Problem 7"
   ]
  },
  {
   "cell_type": "markdown",
   "metadata": {},
   "source": [
    "#### Check the story of ‘coding.ninjas’. Consider the following Scenarios and print error messages accordingly -"
   ]
  },
  {
   "cell_type": "markdown",
   "metadata": {},
   "source": [
    "If You have already seen the story.\n",
    "Or The user has no story.\n",
    "Or View the story if not yet seen."
   ]
  },
  {
   "cell_type": "code",
   "execution_count": 9,
   "metadata": {},
   "outputs": [],
   "source": [
    "gotoprofile('coding.ninjas')"
   ]
  },
  {
   "cell_type": "code",
   "execution_count": 12,
   "metadata": {},
   "outputs": [
    {
     "name": "stdout",
     "output_type": "stream",
     "text": [
      "You have already seen the story!\n"
     ]
    }
   ],
   "source": [
    "## the only difference a watched and not watched story have is the height and width of the  canvas.\n",
    "#Hence is also depends on the screen size and the zooming level. \n",
    "\n",
    "try:\n",
    "    if int(driver.find_element_by_xpath('//div[contains(@class, \"h5uC0\")]/canvas').get_attribute('height'))==137:\n",
    "        print('You have not seen the story yet! The story will be shown to you now. check out the driver window')\n",
    "        driver.find_element_by_xpath('//div[contains(@class, \"h5uC0\")]').click()\n",
    "    elif int(driver.find_element_by_xpath('//div[contains(@class, \"h5uC0\")]/canvas').get_attribute('height'))==131:\n",
    "        print('You have already seen the story!')\n",
    "except NoSuchElementException:\n",
    "    print('The user has no story!')"
   ]
  }
 ],
 "metadata": {
  "kernelspec": {
   "display_name": "Python 3",
   "language": "python",
   "name": "python3"
  },
  "language_info": {
   "codemirror_mode": {
    "name": "ipython",
    "version": 3
   },
   "file_extension": ".py",
   "mimetype": "text/x-python",
   "name": "python",
   "nbconvert_exporter": "python",
   "pygments_lexer": "ipython3",
   "version": "3.8.5"
  }
 },
 "nbformat": 4,
 "nbformat_minor": 4
}
