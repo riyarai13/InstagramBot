{
 "cells": [
  {
   "cell_type": "markdown",
   "metadata": {},
   "source": [
    "Now your friend has followed a lot of different food bloggers, he needs to analyse the habits of these bloggers."
   ]
  },
  {
   "cell_type": "code",
   "execution_count": 26,
   "metadata": {},
   "outputs": [],
   "source": [
    "import selenium \n",
    "from bs4 import BeautifulSoup\n",
    "from selenium import webdriver\n",
    "import time \n",
    "from selenium.webdriver.support.ui import WebDriverWait\n",
    "from selenium.webdriver.support.wait import WebDriverWait\n",
    "from selenium.webdriver.support import expected_conditions as EC\n",
    "from selenium.webdriver.common.by import By\n",
    "from selenium.common.exceptions import NoSuchElementException \n",
    "from selenium.common.exceptions import TimeoutException\n",
    "from selenium.common.exceptions import StaleElementReferenceException\n",
    "import datetime\n",
    "from datetime import datetime, timezone\n",
    "import csv\n",
    "import matplotlib.pyplot as plt\n",
    "import numpy as np"
   ]
  },
  {
   "cell_type": "code",
   "execution_count": 2,
   "metadata": {},
   "outputs": [],
   "source": [
    "driver = webdriver.Chrome('chromedriver.exe')\n",
    "driver.maximize_window()\n"
   ]
  },
  {
   "cell_type": "code",
   "execution_count": 3,
   "metadata": {},
   "outputs": [],
   "source": [
    "def loginInsta() : \n",
    "    waiter = WebDriverWait(driver,10).until(EC.presence_of_element_located((By.TAG_NAME,\"input\")))\n",
    "    text_boxes = driver.find_elements_by_tag_name('input')\n",
    "    sampleUserName = 'Username'\n",
    "    samplePassword = 'Password'\n",
    "    username = text_boxes[0]\n",
    "    password = text_boxes[1]\n",
    "    username.send_keys(sampleUserName)\n",
    "    password.send_keys(samplePassword)\n",
    "    sub_btn = driver.find_element_by_xpath('//button[@type= \"submit\"]')\n",
    "    sub_btn.click()"
   ]
  },
  {
   "cell_type": "code",
   "execution_count": 4,
   "metadata": {},
   "outputs": [],
   "source": [
    "driver.get('https://www.instagram.com/')\n",
    "loginInsta()\n",
    "# close the save info window\n",
    "waiter = WebDriverWait(driver,10).until(EC.presence_of_element_located((By.CLASS_NAME,\"cmbtv\")))\n",
    "NotNowSection = driver.find_element_by_class_name(\"cmbtv\")\n",
    "NotNowSection.click()\n",
    "# close the turn on post notification window\n",
    "waiter = WebDriverWait(driver,10).until(EC.presence_of_element_located((By.CLASS_NAME,\"HoLwm\")))\n",
    "NotNowSection = driver.find_element_by_class_name(\"HoLwm\")\n",
    "NotNowSection.click()"
   ]
  },
  {
   "cell_type": "code",
   "execution_count": 5,
   "metadata": {},
   "outputs": [],
   "source": [
    "waiter=WebDriverWait(driver, 10).until(EC.presence_of_element_located((By.CLASS_NAME, \"TqC_a\")))\n",
    "search_box = driver.find_element_by_class_name('TqC_a ')\n",
    "search_box.click()\n",
    "waiter=WebDriverWait(driver, 10).until(EC.presence_of_element_located((By.CLASS_NAME, \"XTCLo\")))\n",
    "driver.find_element_by_class_name('XTCLo').send_keys('food')\n",
    "waiter=WebDriverWait(driver, 10).until(EC.presence_of_element_located((By.CLASS_NAME, \"-qQT3\")))\n",
    "\n",
    "# p =  driver.find_elements_by_xpath('//a[@class = \"-qQT3\"]/div/div[contains(@class,\"vwCYk\")]/div/div/div/div')\n",
    "p =  driver.find_elements_by_xpath('//a[@class = \"-qQT3\"]')\n"
   ]
  },
  {
   "cell_type": "code",
   "execution_count": 6,
   "metadata": {},
   "outputs": [],
   "source": [
    "foodPageslist = {}\n",
    "for i in range(10):\n",
    "    link = p[i].get_attribute('href')\n",
    "    # Avoid tags just include usernames \n",
    "    if '/explore/tags/' in link:\n",
    "        i -= 1\n",
    "        continue\n",
    "    foodPageslist[link] =0"
   ]
  },
  {
   "cell_type": "code",
   "execution_count": 7,
   "metadata": {},
   "outputs": [],
   "source": [
    "def findNumOfFollowers():\n",
    "    # Assuming we are on the profile page\n",
    "    waiter = WebDriverWait(driver,10).until(EC.presence_of_element_located((By.CLASS_NAME,'g47SY')))\n",
    "    nof = driver.find_elements_by_class_name(\"g47SY\")[1].get_attribute('title')\n",
    "    nof = nof.replace(',','')\n",
    "    return float(nof)"
   ]
  },
  {
   "cell_type": "code",
   "execution_count": 8,
   "metadata": {},
   "outputs": [
    {
     "name": "stdout",
     "output_type": "stream",
     "text": [
      "First 10 Handles when searched for term 'Food' \n",
      "https://www.instagram.com/food_tour_ent/\n",
      "https://www.instagram.com/foodie___hum/\n",
      "https://www.instagram.com/indian_tasty_food/\n",
      "https://www.instagram.com/indorefooddage/\n",
      "https://www.instagram.com/indorefoodexplorer/\n",
      "https://www.instagram.com/addicted_food_/\n",
      "https://www.instagram.com/food/\n",
      "https://www.instagram.com/foodie_incarnate/\n",
      "https://www.instagram.com/foody_bliss/\n"
     ]
    }
   ],
   "source": [
    "print(\"First 10 Handles when searched for term 'Food' \")\n",
    "for page,followers in foodPageslist.items():\n",
    "    print(page)\n",
    "    driver.get(page)\n",
    "    nof = findNumOfFollowers()\n",
    "    foodPageslist[page] = nof\n",
    "time.sleep(10)    \n",
    "#     /* We will save number of posts in this list only */\n",
    "# driver.get('https://www.instagram.com/')\n"
   ]
  },
  {
   "cell_type": "markdown",
   "metadata": {},
   "source": [
    "#### <p style = \"color : Red\">Now Wait until links of all ten pages gets printed. </p>"
   ]
  },
  {
   "cell_type": "markdown",
   "metadata": {},
   "source": [
    "#### Top 5 accounts with Highest number of followers are : "
   ]
  },
  {
   "cell_type": "code",
   "execution_count": 9,
   "metadata": {},
   "outputs": [
    {
     "name": "stdout",
     "output_type": "stream",
     "text": [
      "Top 5 accounts with Highest number of followers are : \n",
      "foodie_incarnate 1265821.0\n",
      "food 163953.0\n",
      "indorefoodexplorer 148419.0\n",
      "foody_bliss 23527.0\n",
      "indian_tasty_food 16044.0\n"
     ]
    }
   ],
   "source": [
    "\n",
    "foll = sorted(foodPageslist.items(), key=lambda item: item[1],reverse = True)[:5]\n",
    "foll\n",
    "names = []\n",
    "links = []\n",
    "followers = []\n",
    "print(\"Top 5 accounts with Highest number of followers are : \")\n",
    "for f in foll:\n",
    "    link = f[0]\n",
    "    links.append(link)\n",
    "    name  = link.replace('https://www.instagram.com/','')\n",
    "    name = name.replace('/','')\n",
    "    names.append(name)\n",
    "    follower = f[1]\n",
    "    followers.append(f[1])\n",
    "    print(name , follower)"
   ]
  },
  {
   "cell_type": "markdown",
   "metadata": {},
   "source": [
    " ### Number of post of a page in last three days\n"
   ]
  },
  {
   "cell_type": "code",
   "execution_count": 25,
   "metadata": {},
   "outputs": [],
   "source": [
    "def NumofPostLast3Days():\n",
    "    numOpost,i ,num_of_days,posttime = 0 ,0 , None,None\n",
    "    flag = True\n",
    "    currtime = datetime.now()\n",
    "    while flag:\n",
    "        waiter = WebDriverWait(driver,10).until(EC.presence_of_element_located((By.XPATH,\"//div[contains(@class,'kIKUG')]/a\")))\n",
    "        p = driver.find_elements_by_xpath(\"//div[contains(@class,'kIKUG')]/a\")[i]\n",
    "        POST_LINK = p.get_attribute('href')\n",
    "        driver.get(POST_LINK)\n",
    "        # find the time tag \n",
    "        waiter = WebDriverWait(driver,50).until(EC.presence_of_element_located((By.XPATH,\"//a[@class = 'c-Yi7']/time\")))\n",
    "        posttime  = driver.find_element_by_xpath(\"//a[@class = 'c-Yi7']/time\").get_attribute('datetime')[:10]\n",
    "        #convert time to comparable format\n",
    "        posttime = datetime.strptime(posttime,'%Y-%m-%d')\n",
    "        num_of_days = (currtime - posttime).days\n",
    "        if num_of_days <= 3:\n",
    "            numOpost += 1\n",
    "        else :\n",
    "            flag = False\n",
    "        i+=1\n",
    "        driver.back()\n",
    "    return numOpost"
   ]
  },
  {
   "cell_type": "code",
   "execution_count": 39,
   "metadata": {},
   "outputs": [
    {
     "name": "stdout",
     "output_type": "stream",
     "text": [
      "1\n",
      "2022-02-19\n",
      "2\n",
      "2022-02-19\n",
      "3\n",
      "2022-02-18\n",
      "4\n",
      "2022-02-17\n",
      "5\n",
      "2022-02-16\n",
      "6\n",
      "2022-02-14\n",
      "dilsefoodie  -  5\n",
      "1\n",
      "2022-02-19\n",
      "2\n",
      "2022-02-19\n",
      "3\n",
      "2022-02-18\n",
      "4\n",
      "2022-02-18\n",
      "5\n",
      "2022-02-17\n",
      "6\n",
      "2022-02-17\n",
      "7\n",
      "2022-02-16\n",
      "8\n",
      "2022-02-15\n",
      "foodtalkindia  -  7\n",
      "1\n",
      "2022-02-18\n",
      "2\n",
      "2022-02-17\n",
      "3\n",
      "2022-02-16\n",
      "4\n",
      "2022-02-15\n",
      "food  -  3\n",
      "1\n",
      "2022-02-19\n",
      "2\n",
      "2022-02-18\n",
      "3\n",
      "2022-02-18\n",
      "4\n",
      "2022-02-17\n",
      "5\n",
      "2022-02-16\n",
      "6\n",
      "2022-02-16\n",
      "7\n",
      "2022-02-15\n",
      "delhifoodwalks  -  6\n",
      "1\n",
      "2022-02-19\n",
      "2\n",
      "2022-02-15\n",
      "foody_bliss  -  1\n"
     ]
    }
   ],
   "source": [
    "print(\"Number of Posts by those accounts in last three days are as follows : \")\n",
    "\n",
    "#Now again go on each handle and take out no. of post in last three days \n",
    "numofPosts = []\n",
    "for i in range(len(links)):\n",
    "    driver.get(links[i]) #go on the page. \n",
    "    #Scroll Down on each page. \n",
    "    driver.execute_script('window.scrollBy(0,9000);')\n",
    "    time.sleep(2.5)\n",
    "    driver.execute_script('window.scrollBy(0,9000);')\n",
    "    time.sleep(2.5)\n",
    "    driver.execute_script('window.scrollBy(0,9000);')\n",
    "    time.sleep(2.5)\n",
    "    \n",
    "    # function that returns number of post in last three days\n",
    "    numPost = NumofPostLast3Days()\n",
    "    print(names[i], \" - \" , numPost)\n",
    "    numofPosts.append(numPost)\n"
   ]
  },
  {
   "cell_type": "code",
   "execution_count": 40,
   "metadata": {},
   "outputs": [
    {
     "name": "stdout",
     "output_type": "stream",
     "text": [
      "linls\n",
      "['https://www.instagram.com/dilsefoodie/', 'https://www.instagram.com/foodtalkindia/', 'https://www.instagram.com/food/', 'https://www.instagram.com/delhifoodwalks/', 'https://www.instagram.com/foody_bliss/']\n",
      "names\n",
      "['dilsefoodie', 'foodtalkindia', 'food', 'delhifoodwalks', 'foody_bliss']\n",
      "followers\n",
      "[970877.0, 307856.0, 161731.0, 159969.0, 22233.0]\n",
      "numofPosts\n",
      "[5, 7, 3, 6, 1]\n"
     ]
    }
   ],
   "source": [
    "print(\"linls\")\n",
    "print(links)\n",
    "print('names')\n",
    "print(names)\n",
    "print('followers')\n",
    "print(followers)\n",
    "print('numofPosts')\n",
    "print(numofPosts)"
   ]
  },
  {
   "cell_type": "code",
   "execution_count": 58,
   "metadata": {},
   "outputs": [
    {
     "data": {
      "image/png": "[encoded data removed]",
      "text/plain": [
       "<Figure size 432x288 with 1 Axes>"
      ]
     },
     "metadata": {
      "needs_background": "light"
     },
     "output_type": "display_data"
    }
   ],
   "source": [
    "import matplotlib.pyplot as plt\n",
    "plt.bar(names,followers)\n",
    "plt.xlabel(\"Accounts\")\n",
    "plt.ylabel(\"Number of Followers in millions\")\n",
    "plt.title(\"Top 5 followers\")\n",
    "plt.show()"
   ]
  },
  {
   "cell_type": "code",
   "execution_count": 59,
   "metadata": {},
   "outputs": [
    {
     "data": {
      "image/png": "[encoded data removed]",
      "text/plain": [
       "<Figure size 432x288 with 1 Axes>"
      ]
     },
     "metadata": {
      "needs_background": "light"
     },
     "output_type": "display_data"
    }
   ],
   "source": [
    "import matplotlib.pyplot as plt\n",
    "plt.bar(names,numofPosts)\n",
    "plt.xlabel(\"Accounts\")\n",
    "plt.ylabel(\"Number of Posts\")\n",
    "plt.title(\"Number of posts in last three days\")\n",
    "plt.show()"
   ]
  },
  {
   "cell_type": "markdown",
   "metadata": {},
   "source": [
    "#### Your friend also needs a list of hashtags that he should use in his posts.\n",
    "#### Open the 5 handles you obtained in the last question, and scrape the content of the first 10 posts of each handle.\n",
    "#### Prepare a list of all words used in all the scraped posts and calculate the frequency of each word.\n",
    "#### Create a csv file with two columns : the word and its frequency\n",
    "#### Now, find the hashtags that were most popular among these bloggers\n",
    "#### Plot a Pie Chart of the top 5 hashtags obtained and the number of times they were used by these bloggers in the scraped posts."
   ]
  },
  {
   "cell_type": "code",
   "execution_count": 11,
   "metadata": {},
   "outputs": [],
   "source": [
    "def Scrapecontent(numofposts,words):\n",
    "    for i in range(numofposts):\n",
    "        waiter = WebDriverWait(driver,10).until(EC.presence_of_element_located((By.XPATH,\"//div[contains(@class,'kIKUG')]/a\")))\n",
    "        p = driver.find_elements_by_xpath(\"//div[contains(@class,'kIKUG')]/a\")[i]\n",
    "        POST_LINK = p.get_attribute('href')\n",
    "        driver.get(POST_LINK)\n",
    "        #find content code \n",
    "        for x in driver.find_elements_by_class_name(\"xil3i\"):\n",
    "            words[x.text] = words.get(x.text,0)+1\n",
    "        driver.back()"
   ]
  },
  {
   "cell_type": "code",
   "execution_count": 12,
   "metadata": {},
   "outputs": [
    {
     "name": "stdout",
     "output_type": "stream",
     "text": [
      "{'#foodieincarnate': 5, '#sodelhi': 6, '#newdelhi': 6, '#foodtalkindia': 6, '#delhigram': 6, '#indianfood': 6, '#delhifoodblogger': 6, '#foodgasm': 4, '#foodporn': 4, '#foodpornshare': 4, '#foodlover': 5, '#foodgram': 4, '#foodiesofinstagram': 4, '#foodie': 4, '#indianstreetfood': 5, '#streetfood': 6, '#delhistreetfood': 5, '#streetfoodindia': 4, '#mumbaistreetfood': 4, '#delhifoodie': 5, '#foodblogger': 5, '#indianfoodie': 6, '#desikhana': 5, '#indianfoodblogger': 5, '#indianfoodbloggers': 4, '#delhifood': 5, '#mumbai': 4, '#delhi': 4, '#chai': 2, '#ahmedabad': 1, '#Foodieincarnate': 5, '#reelitfeelit': 1, '#reelkarofeelkaro': 4, '#reelinstagram': 1, '#reels': 5, '#manchurian': 1, '#nagpur': 2, '#viralvideos': 2, '#viralfood': 2, '#desifood': 2, '#thali': 1, '#makhana': 1, '#paneer': 1, '#biharifood': 1, '#poori': 1, '#spinach': 1, '#indiancuisine': 1, '#regionalcuisine': 1, '#patnafood': 1, '#ruralindia': 1, '#mumbaifoodie': 2, '#foodmaniacindia': 1, '#foodofmumbai': 1, '#thingstodoinmumbai': 1, '#localflavor': 1, '#chokha': 1, '#southindianfood': 1, '#bihari': 1, '#Reelitfeelit': 3, '#reelsinstagram': 3, '#gurudwara': 1, '#sikh': 1, '#sikhisim': 1, '#waheguru': 1, '#prasad': 1, '#sikhi': 1, '#amarsirohi': 1, '#gymlife': 1, '#paratha': 1, '#agra': 1, '#lassi': 2, '#lucknow': 2, '#explore': 1, '#shrikhand': 1, '#rabdi': 1, '#olddelhi': 1, '#ahmedabab': 1, '#jamamasjid': 1, '#faluda': 1, '#ahmedabaddiaries': 1, '#gujratifood': 1, '#gujjufood': 1, '#chandnichowk': 1, '#mumbai_igers': 1, '#delhi_igers': 1, '#incredibleindia': 1, '#gharkakhana': 1, '#suratfoodies': 1, '#delhiblogger': 1, '#gujarattourism': 1, '#suratfood': 1, '#vadodarafoodblogger': 1, '#malaipaan': 1, '#dilsefoodie': 10, '#dilsecouple': 9, '#chatpati_shikha': 1, '#indiapictures': 1, '#storiesofindia': 1, '#india': 1, '#instagood': 1, '#trending': 1, '#valentine': 1, '#CelebrateWithThoseWhoMatter': 2, '#Ballantines': 2, '#StayTrue': 2, '#BallantinesIndia': 2, '#DrinkResponsibly': 2, '#NewInTown': 3, '#DontFuckItUp': 1, '#GarnishWars': 6, '#JimmysCocktails': 2, '#PremiumCocktailMixers': 2, '#FinelyCrafted': 2, '#foodfaves': 8, '#superbowl': 2, '#crunchwrap': 2, '#tacobell': 2, '#tacos': 2, '#grilledcheese': 1, '#gooeycheese': 1, '#newyorkcity': 2, '#doughnutlover': 1, '#mochidonuts': 1, '#doughnuts': 1, '#boston': 1, '#bostonfoodies': 1, '#milkbar': 1, '#momufuku': 1, '#frenchtoast': 1, '#icecream': 1, '#tacotuesday': 1, '#fusion': 1, '#koreanfood': 1, '#mexicanfood': 1, '#happyvalentinesday': 1, '#pizza': 1, '#nachos': 1, '#portlandfood': 1, '#nationalpizzaday': 1, '#taiwanesefood': 1, '#bakery': 1, '#sandwichlover': 1, '#tandoorimomos': 2, '#dfwinbastar': 4, '#bastarfoodtour': 4, '#bastarfood': 4, '#tribalfood': 4, '#ethnicfood': 4, '#tribalcuisine': 4, '#samosa': 1, '#foodwalkswithanubhav': 4, '#dfwinchhattisgarh': 1, '#chhattishgarh': 1, '#chhattishgarhfoodtour': 1, '#chhattishgarhicuisine': 1, '#chhattisgarhifood': 1, '#delhifoodwalks': 1, '#foodwalks': 1, '#foodtour': 1, '#travelforfood': 1, '#streetfoodtour': 1, '#raipurfoodtour': 1, '#balushahi': 1, '#walkwithanubhav': 2, '#littichokha': 1, '#streetfoods': 1, '#dhanbad': 1}\n"
     ]
    }
   ],
   "source": [
    "# open the first five handles and perform the fnction\n",
    "words = {}\n",
    "for i in range(len(links)):\n",
    "    driver.get(links[i]) #go on the page. \n",
    "    #Scroll Down on each page. \n",
    "    driver.execute_script('window.scrollBy(0,9000);')\n",
    "    time.sleep(2.5)\n",
    "    driver.execute_script('window.scrollBy(0,9000);')\n",
    "    time.sleep(2.5)\n",
    "    driver.execute_script('window.scrollBy(0,9000);')\n",
    "    time.sleep(2.5)\n",
    "    \n",
    "    # Scrape the content of first 10 posts\n",
    "\n",
    "    Scrapecontent(10,words)\n",
    "print(words)"
   ]
  },
  {
   "cell_type": "code",
   "execution_count": 13,
   "metadata": {},
   "outputs": [],
   "source": [
    "with open('Content.csv','w') as csv_file:\n",
    "    writer = csv.writer(csv_file)\n",
    "    writer.writerow([\"Hashtage\",\"Freq\"])\n",
    "    for key,value in words.items():\n",
    "        writer.writerow([key,value])    "
   ]
  },
  {
   "cell_type": "code",
   "execution_count": 42,
   "metadata": {},
   "outputs": [
    {
     "name": "stdout",
     "output_type": "stream",
     "text": [
      "             Hashtage  Freq\n",
      "0    #foodieincarnate     5\n",
      "1            #sodelhi     6\n",
      "2           #newdelhi     6\n",
      "3      #foodtalkindia     6\n",
      "4          #delhigram     6\n",
      "..                ...   ...\n",
      "162        #balushahi     1\n",
      "163  #walkwithanubhav     2\n",
      "164      #littichokha     1\n",
      "165      #streetfoods     1\n",
      "166          #dhanbad     1\n",
      "\n",
      "[167 rows x 2 columns]\n"
     ]
    }
   ],
   "source": [
    "import pandas as pd\n",
    "Contentdf = pd.read_csv('Content.csv')\n",
    "sortind = Contentdf['Freq'].argsort()[::-1]"
   ]
  },
  {
   "cell_type": "code",
   "execution_count": 46,
   "metadata": {},
   "outputs": [],
   "source": [
    "frequency = Contentdf.iloc[sortind]['Freq'][:5]\n",
    "keywords = Contentdf.iloc[sortind]['Hashtage'][:5]\n",
    "frequency = frequency.values\n",
    "keywords = keywords.values"
   ]
  },
  {
   "cell_type": "code",
   "execution_count": 66,
   "metadata": {},
   "outputs": [
    {
     "data": {
      "image/png": "[encoded data removed]",
      "text/plain": [
       "<Figure size 432x288 with 1 Axes>"
      ]
     },
     "metadata": {},
     "output_type": "display_data"
    }
   ],
   "source": [
    "plt.pie(frequency ,labels =  keywords,autopct=\"%.2f%%\" )\n",
    "plt.title()\n",
    "plt.show()"
   ]
  },
  {
   "cell_type": "markdown",
   "metadata": {},
   "source": [
    "#### You need to also calculate average followers : likes ratio for the obtained handles.\n",
    "####  Followers : Likes ratio is calculated as follows:\n",
    "#### Find out the likes of the top 10 posts of the 5 handles obtained earlier.\n",
    "#### Calculate the average likes for a handle.\n",
    "#### Divide the average likes obtained from the number of followers of the handle to get the average followers:like ratio of each handle.\n",
    "#### Create a bar graph to depict the above obtained information."
   ]
  },
  {
   "cell_type": "markdown",
   "metadata": {},
   "source": [
    "1. Go on each profile\n",
    "2. Go on each post (10 posts) \n",
    "3. Collect no. of likes , add them , divide by 10\n",
    "4. divide the avg likes by num of followers that we already have \n",
    "5. Create a bar graph "
   ]
  },
  {
   "cell_type": "code",
   "execution_count": 10,
   "metadata": {},
   "outputs": [],
   "source": [
    "def collectAvgNumLikes(numofposts):\n",
    "    totalLikes  = 0 \n",
    "    for i in range(numofposts):\n",
    "        waiter = WebDriverWait(driver,10).until(EC.presence_of_element_located((By.XPATH,\"//div[contains(@class,'kIKUG')]/a\")))\n",
    "        p = driver.find_elements_by_xpath(\"//div[contains(@class,'kIKUG')]/a\")[i]\n",
    "        POST_LINK = p.get_attribute('href')\n",
    "        driver.get(POST_LINK)\n",
    "        #find No. of likes \n",
    "        try :\n",
    "            likeEl = driver.find_element_by_xpath(\"//div[contains(@class,'xLCgt') and contains(@class,'fDxYl')]/span\")\n",
    "            numLikes = float(likeEl.text.replace(',',''))\n",
    "        except NoSuchElementException :\n",
    "            try :\n",
    "                button_like= WebDriverWait(driver,10).until(EC.element_to_be_clickable((By.CLASS_NAME,\"vcOH2\")))\n",
    "                driver.execute_script(\"arguments[0].click();\", button_like)\n",
    "                numLikes = float(driver.find_elements_by_xpath(\"//div[contains(@class,'vJRqr')]/span\")[0].text.replace(',',''))\n",
    "            except TimeoutException :\n",
    "                numLikes = 0\n",
    "        totalLikes += numLikes\n",
    "        driver.back()\n",
    "    avgLikes = totalLikes/numofposts\n",
    "    return avgLikes"
   ]
  },
  {
   "cell_type": "code",
   "execution_count": 28,
   "metadata": {},
   "outputs": [
    {
     "name": "stdout",
     "output_type": "stream",
     "text": [
      "[0.027351497565611567, 0.0047043969918208264, 0.0004446870009904392, 0.06373528286649381, 0.1237035651957118]\n"
     ]
    }
   ],
   "source": [
    "ratio = []\n",
    "avgLikesList = []\n",
    "for i in range(len(links)):\n",
    "    driver.get(links[i]) #go on the page. \n",
    "    #Scroll Down on each page. \n",
    "    driver.execute_script('window.scrollBy(0,9000);')\n",
    "    time.sleep(2.5)\n",
    "    driver.execute_script('window.scrollBy(0,9000);')\n",
    "    time.sleep(2.5)\n",
    "    driver.execute_script('window.scrollBy(0,9000);')\n",
    "    time.sleep(2.5)\n",
    "    \n",
    "    # Go on first 10 posts and extract avg likes -> argument = number of posts\n",
    "    avgLikes = collectAvgNumLikes(10)\n",
    "    avgLikesList.append(avgLikes)\n",
    "    ratio.append(avgLikes/followers[i])\n",
    "print(ratio)    "
   ]
  },
  {
   "cell_type": "code",
   "execution_count": 43,
   "metadata": {},
   "outputs": [],
   "source": [
    "ratio = np.array(avgLikesList)/np.array(followers)\n",
    "ratio = ratio * 100\n",
    "plt.bar(names,ratio, color='orange')\n",
    "plt.xlabel(\"Users\")\n",
    "plt.ylabel(\"Likes : follower Ratio\")\n",
    "plt.xticks(rotation=45, size=12)\n",
    "plt.show()"
   ]
  },
  {
   "cell_type": "code",
   "execution_count": 45,
   "metadata": {},
   "outputs": [
    {
     "data": {
      "image/png": "[encoded data removed]",
      "text/plain": [
       "<Figure size 432x288 with 1 Axes>"
      ]
     },
     "metadata": {
      "needs_background": "light"
     },
     "output_type": "display_data"
    }
   ],
   "source": []
  },
  {
   "cell_type": "code",
   "execution_count": null,
   "metadata": {},
   "outputs": [],
   "source": []
  },
  {
   "cell_type": "code",
   "execution_count": null,
   "metadata": {},
   "outputs": [],
   "source": []
  },
  {
   "cell_type": "code",
   "execution_count": null,
   "metadata": {},
   "outputs": [],
   "source": []
  },
  {
   "cell_type": "code",
   "execution_count": null,
   "metadata": {},
   "outputs": [],
   "source": []
  },
  {
   "cell_type": "code",
   "execution_count": null,
   "metadata": {},
   "outputs": [],
   "source": []
  },
  {
   "cell_type": "code",
   "execution_count": null,
   "metadata": {},
   "outputs": [],
   "source": []
  },
  {
   "cell_type": "code",
   "execution_count": null,
   "metadata": {},
   "outputs": [],
   "source": []
  },
  {
   "cell_type": "code",
   "execution_count": null,
   "metadata": {},
   "outputs": [],
   "source": []
  },
  {
   "cell_type": "code",
   "execution_count": 77,
   "metadata": {},
   "outputs": [
    {
     "name": "stdout",
     "output_type": "stream",
     "text": [
      "72,473 views\n",
      "<div class=\"_9Ytll\"><span class=\"vcOH2\" role=\"button\" tabindex=\"0\"><div class=\"_7UhW9   xLCgt        qyrsm KV-D4          uL8Hv        T0kll \"><span>72,473</span> views</div></span></div>\n"
     ]
    },
    {
     "data": {
      "text/plain": [
       "'72473 views'"
      ]
     },
     "execution_count": 77,
     "metadata": {},
     "output_type": "execute_result"
    }
   ],
   "source": [
    "like_data = driver.find_element_by_xpath(\"//section[@class='EDfFK ygqzn']\")\n",
    "print(like_data.text)\n",
    "print(like_data.get_attribute('innerHTML'))\n",
    "BeautifulSoup(like_data.get_attribute('outerHTML'),'html.parser').find('span').text.replace(',','')"
   ]
  },
  {
   "cell_type": "code",
   "execution_count": 39,
   "metadata": {},
   "outputs": [
    {
     "name": "stdout",
     "output_type": "stream",
     "text": [
      "2022-02-19 18:36:34.177732 2022-02-16 00:00:00\n"
     ]
    }
   ],
   "source": [
    "datetime.strptime('Jun 1 2005  1:33PM', '%b %d %Y %I:%M%p')\n",
    "a = datetime.now()\n",
    "b = datetime.strptime('2022-02-16', '%Y-%m-%d')\n",
    "print(a,b)"
   ]
  },
  {
   "cell_type": "code",
   "execution_count": 40,
   "metadata": {},
   "outputs": [
    {
     "data": {
      "text/plain": [
       "3"
      ]
     },
     "execution_count": 40,
     "metadata": {},
     "output_type": "execute_result"
    }
   ],
   "source": [
    "a = datetime.now()\n",
    "(a-b).days"
   ]
  },
  {
   "cell_type": "code",
   "execution_count": 11,
   "metadata": {},
   "outputs": [
    {
     "name": "stdout",
     "output_type": "stream",
     "text": [
      "<class 'datetime.datetime'>\n",
      "<class 'datetime.datetime'>\n"
     ]
    },
    {
     "data": {
      "text/html": [
       "<div>\n",
       "<style scoped>\n",
       "    .dataframe tbody tr th:only-of-type {\n",
       "        vertical-align: middle;\n",
       "    }\n",
       "\n",
       "    .dataframe tbody tr th {\n",
       "        vertical-align: top;\n",
       "    }\n",
       "\n",
       "    .dataframe thead th {\n",
       "        text-align: right;\n",
       "    }\n",
       "</style>\n",
       "<table border=\"1\" class=\"dataframe\">\n",
       "  <thead>\n",
       "    <tr style=\"text-align: right;\">\n",
       "      <th></th>\n",
       "      <th>posttime</th>\n",
       "      <th>curr</th>\n",
       "    </tr>\n",
       "  </thead>\n",
       "  <tbody>\n",
       "    <tr>\n",
       "      <th>0</th>\n",
       "      <td>2022-01-24 07:43:54+00:00</td>\n",
       "      <td>2022-02-10 22:39:05.008543</td>\n",
       "    </tr>\n",
       "    <tr>\n",
       "      <th>1</th>\n",
       "      <td>2022-01-22 07:43:54+00:00</td>\n",
       "      <td>2022-02-10 22:39:05.008543</td>\n",
       "    </tr>\n",
       "    <tr>\n",
       "      <th>2</th>\n",
       "      <td>2022-01-25 07:43:54+00:00</td>\n",
       "      <td>2022-02-10 22:39:05.008543</td>\n",
       "    </tr>\n",
       "  </tbody>\n",
       "</table>\n",
       "</div>"
      ],
      "text/plain": [
       "                   posttime                       curr\n",
       "0 2022-01-24 07:43:54+00:00 2022-02-10 22:39:05.008543\n",
       "1 2022-01-22 07:43:54+00:00 2022-02-10 22:39:05.008543\n",
       "2 2022-01-25 07:43:54+00:00 2022-02-10 22:39:05.008543"
      ]
     },
     "execution_count": 11,
     "metadata": {},
     "output_type": "execute_result"
    }
   ],
   "source": [
    "l = ['2022-01-24T07:43:54.000Z' ,'2022-01-22T07:43:54.000Z','2022-01-25T07:43:54.000Z']\n",
    "import pandas as pd\n",
    "dates = pd.DataFrame(l,columns = ['posttime'])\n",
    "dates['posttime'] = pd.to_datetime(dates['posttime'])\n",
    "import datetime\n",
    "currtime = datetime.datetime.now()\n",
    "print(type(currtime))\n",
    "curr = [currtime]*3\n",
    "print(type(curr[0]))\n",
    "curr\n",
    "dates['curr'] = curr\n",
    "dates"
   ]
  },
  {
   "cell_type": "code",
   "execution_count": 12,
   "metadata": {},
   "outputs": [],
   "source": [
    "dates['posttime'] = dates['posttime'].dt.tz_localize(None)\n",
    "dates['curr'] = dates['curr'].dt.tz_localize(None)"
   ]
  },
  {
   "cell_type": "code",
   "execution_count": 13,
   "metadata": {},
   "outputs": [
    {
     "data": {
      "text/html": [
       "<div>\n",
       "<style scoped>\n",
       "    .dataframe tbody tr th:only-of-type {\n",
       "        vertical-align: middle;\n",
       "    }\n",
       "\n",
       "    .dataframe tbody tr th {\n",
       "        vertical-align: top;\n",
       "    }\n",
       "\n",
       "    .dataframe thead th {\n",
       "        text-align: right;\n",
       "    }\n",
       "</style>\n",
       "<table border=\"1\" class=\"dataframe\">\n",
       "  <thead>\n",
       "    <tr style=\"text-align: right;\">\n",
       "      <th></th>\n",
       "      <th>posttime</th>\n",
       "      <th>curr</th>\n",
       "    </tr>\n",
       "  </thead>\n",
       "  <tbody>\n",
       "    <tr>\n",
       "      <th>0</th>\n",
       "      <td>2022-01-24 07:43:54</td>\n",
       "      <td>2022-02-10 22:39:05.008543</td>\n",
       "    </tr>\n",
       "    <tr>\n",
       "      <th>1</th>\n",
       "      <td>2022-01-22 07:43:54</td>\n",
       "      <td>2022-02-10 22:39:05.008543</td>\n",
       "    </tr>\n",
       "    <tr>\n",
       "      <th>2</th>\n",
       "      <td>2022-01-25 07:43:54</td>\n",
       "      <td>2022-02-10 22:39:05.008543</td>\n",
       "    </tr>\n",
       "  </tbody>\n",
       "</table>\n",
       "</div>"
      ],
      "text/plain": [
       "             posttime                       curr\n",
       "0 2022-01-24 07:43:54 2022-02-10 22:39:05.008543\n",
       "1 2022-01-22 07:43:54 2022-02-10 22:39:05.008543\n",
       "2 2022-01-25 07:43:54 2022-02-10 22:39:05.008543"
      ]
     },
     "execution_count": 13,
     "metadata": {},
     "output_type": "execute_result"
    }
   ],
   "source": [
    "dates"
   ]
  },
  {
   "cell_type": "code",
   "execution_count": 14,
   "metadata": {},
   "outputs": [
    {
     "data": {
      "text/plain": [
       "17"
      ]
     },
     "execution_count": 14,
     "metadata": {},
     "output_type": "execute_result"
    }
   ],
   "source": [
    "a = dates.iloc[0]['curr']\n",
    "\n",
    "b= dates.iloc[0]['posttime']\n",
    "\n",
    "\n",
    "(a-b).days"
   ]
  },
  {
   "cell_type": "markdown",
   "metadata": {},
   "source": [
    "<!-- import datetime\n",
    "   \n",
    "/** Function to convert string to datetime\n",
    "def convert(date_time):\n",
    "    format = '%Y-%m-%d' # The format\n",
    "    datetime_str = datetime.datetime.strptime(date_time, format)\n",
    "   \n",
    "    return datetime_str\n",
    "   \n",
    "/** Driver code\n",
    "/** date_time = 'Dec 4 2018 10:07AM'\n",
    "date_time  = '2022-01-26'\n",
    "\n",
    "print(convert(date_time)) -->"
   ]
  },
  {
   "cell_type": "code",
   "execution_count": 52,
   "metadata": {},
   "outputs": [],
   "source": [
    "driver.get('https://www.instagram.com/')\n"
   ]
  },
  {
   "cell_type": "code",
   "execution_count": 25,
   "metadata": {},
   "outputs": [
    {
     "name": "stdout",
     "output_type": "stream",
     "text": [
      "1\n",
      "2022-02-18\n",
      "2\n",
      "2022-02-17\n",
      "3\n",
      "2022-02-16\n",
      "4\n",
      "2022-02-15\n",
      "3\n"
     ]
    }
   ],
   "source": [
    "def NumofPostLast3Days()\n",
    "    numOpost,i = 0 ,0\n",
    "    flag = True\n",
    "    currtime = datetime.now()\n",
    "    while flag:\n",
    "        waiter = WebDriverWait(driver,10).until(EC.presence_of_element_located((By.XPATH,\"//div[contains(@class,'kIKUG')]/a\")))\n",
    "        print(i+1)\n",
    "        p = driver.find_elements_by_xpath(\"//div[contains(@class,'kIKUG')]/a\")[i]\n",
    "        POST_LINK = p.get_attribute('href')\n",
    "        driver.get(POST_LINK)\n",
    "        # find the time tag \n",
    "        waiter = WebDriverWait(driver,50).until(EC.presence_of_element_located((By.XPATH,\"//a[@class = 'c-Yi7']/time\")))\n",
    "        posttime  = driver.find_element_by_xpath(\"//a[@class = 'c-Yi7']/time\").get_attribute('datetime')[:10]\n",
    "        print(posttime)\n",
    "        #convert time to comparable format\n",
    "        posttime = datetime.strptime(posttime,'%Y-%m-%d')\n",
    "        num_of_days = (currtime - posttime).days\n",
    "        if num_of_days <= 3:\n",
    "            numOpost += 1\n",
    "        else :\n",
    "            flag = False\n",
    "        i+=1\n",
    "        driver.back()\n",
    "    return numOpost"
   ]
  },
  {
   "cell_type": "code",
   "execution_count": 13,
   "metadata": {},
   "outputs": [
    {
     "name": "stdout",
     "output_type": "stream",
     "text": [
      "1\n",
      "2022-02-19T14:45:37.000Z\n",
      "2\n",
      "2022-02-15T04:56:41.000Z\n",
      "3\n",
      "2022-02-13T13:58:57.000Z\n",
      "4\n",
      "2022-02-12T05:07:59.000Z\n",
      "5\n",
      "2022-02-09T13:52:25.000Z\n"
     ]
    }
   ],
   "source": [
    "\n",
    "for i in range(5):\n",
    "    waiter = WebDriverWait(driver,10).until(EC.presence_of_element_located((By.XPATH,\"//div[contains(@class,'kIKUG')]/a\")))\n",
    "    print(i+1)\n",
    "    p = driver.find_elements_by_xpath(\"//div[contains(@class,'kIKUG')]/a\")[i]\n",
    "    POST_LINK = p.get_attribute('href')\n",
    "    driver.get(POST_LINK)\n",
    "    # find the time tag \n",
    "    # driver.switch_to.frame(WebDriverWait(driver, 10).until(EC.presence_of_element_located((By.CLASS_NAME,\"_9AhH0\"))))\n",
    "    waiter = WebDriverWait(driver,50).until(EC.presence_of_element_located((By.XPATH,\"//a[@class = 'c-Yi7']/time\")))\n",
    "    print(driver.find_element_by_xpath(\"//a[@class = 'c-Yi7']/time\").get_attribute('datetime'))\n",
    "    l.append(driver.find_element_by_xpath(\"//a[@class = 'c-Yi7']/time\").get_attribute('datetime'))\n",
    "    driver.find_elements_by_class_name(\"c-Yi7\")\n",
    "    driver.back()"
   ]
  },
  {
   "cell_type": "code",
   "execution_count": 12,
   "metadata": {},
   "outputs": [],
   "source": [
    "l =[]"
   ]
  },
  {
   "cell_type": "code",
   "execution_count": 100,
   "metadata": {},
   "outputs": [
    {
     "name": "stdout",
     "output_type": "stream",
     "text": [
      "5\n",
      "2022-01-30T14:11:28.000Z\n"
     ]
    }
   ],
   "source": [
    "i =4\n",
    "waiter = WebDriverWait(driver,10).until(EC.presence_of_element_located((By.XPATH,\"//div[contains(@class,'kIKUG')]/a\")))\n",
    "print(i+1)\n",
    "p = driver.find_elements_by_xpath(\"//div[contains(@class,'kIKUG')]/a\")[i]\n",
    "POST_LINK = p.get_attribute('href')\n",
    "driver.get(POST_LINK)\n",
    "# find the time tag \n",
    "# driver.switch_to.frame(WebDriverWait(driver, 10).until(EC.presence_of_element_located((By.CLASS_NAME,\"_9AhH0\"))))\n",
    "waiter = WebDriverWait(driver,50).until(EC.presence_of_element_located((By.XPATH,\"//a[@class = 'c-Yi7']/time\")))\n",
    "print(driver.find_element_by_xpath(\"//a[@class = 'c-Yi7']/time\").get_attribute('datetime'))\n",
    "l.append(driver.find_element_by_xpath(\"//a[@class = 'c-Yi7']/time\").get_attribute('datetime'))\n",
    "driver.find_elements_by_class_name(\"c-Yi7\")\n",
    "driver.back()"
   ]
  },
  {
   "cell_type": "code",
   "execution_count": 88,
   "metadata": {},
   "outputs": [
    {
     "data": {
      "text/plain": [
       "'https://www.instagram.com/p/CZpAUjulQc3/'"
      ]
     },
     "execution_count": 88,
     "metadata": {},
     "output_type": "execute_result"
    }
   ],
   "source": [
    "driver.find_elements_by_xpath(\"//div[contains(@class,'kIKUG')]/a\")[2].get_attribute('href')"
   ]
  },
  {
   "cell_type": "code",
   "execution_count": 73,
   "metadata": {},
   "outputs": [],
   "source": [
    "driver.find_elements_by_class_name(\"_9AhH0\")[0].click()"
   ]
  }
 ],
 "metadata": {
  "kernelspec": {
   "display_name": "Python 3",
   "language": "python",
   "name": "python3"
  },
  "language_info": {
   "codemirror_mode": {
    "name": "ipython",
    "version": 3
   },
   "file_extension": ".py",
   "mimetype": "text/x-python",
   "name": "python",
   "nbconvert_exporter": "python",
   "pygments_lexer": "ipython3",
   "version": "3.8.5"
  }
 },
 "nbformat": 4,
 "nbformat_minor": 4
}
